{
  "nbformat": 4,
  "nbformat_minor": 0,
  "metadata": {
    "colab": {
      "provenance": []
    },
    "kernelspec": {
      "name": "python3",
      "display_name": "Python 3"
    },
    "language_info": {
      "name": "python"
    }
  },
  "cells": [
    {
      "cell_type": "code",
      "source": [
        "#instalando o spark\n",
        "!pip install pyspark"
      ],
      "metadata": {
        "colab": {
          "base_uri": "https://localhost:8080/"
        },
        "id": "g6ukTi4jyBC9",
        "outputId": "71f6a4b6-544e-41ce-f4b4-3233b5a3960e"
      },
      "execution_count": 142,
      "outputs": [
        {
          "output_type": "stream",
          "name": "stdout",
          "text": [
            "Requirement already satisfied: pyspark in /usr/local/lib/python3.10/dist-packages (3.4.1)\n",
            "Requirement already satisfied: py4j==0.10.9.7 in /usr/local/lib/python3.10/dist-packages (from pyspark) (0.10.9.7)\n"
          ]
        }
      ]
    },
    {
      "cell_type": "code",
      "execution_count": 143,
      "metadata": {
        "colab": {
          "base_uri": "https://localhost:8080/",
          "height": 35
        },
        "id": "2PghGrb_xSYg",
        "outputId": "fa6f3740-011e-44b6-b4c3-37f8334211c3"
      },
      "outputs": [
        {
          "output_type": "execute_result",
          "data": {
            "text/plain": [
              "'3.4.1'"
            ],
            "application/vnd.google.colaboratory.intrinsic+json": {
              "type": "string"
            }
          },
          "metadata": {},
          "execution_count": 143
        }
      ],
      "source": [
        "#criando o objeto sparkSession\n",
        "from pyspark.sql import SparkSession\n",
        "\n",
        "#Spark\n",
        "\n",
        "spark = SparkSession \\\n",
        ".builder \\\n",
        ".appName(\"Aula 5.2 - SparkML - Pipelines\")\\\n",
        ".getOrCreate()\n",
        "\n",
        "spark.version"
      ]
    },
    {
      "cell_type": "code",
      "source": [
        "income_df = spark.read.csv(\"train.csv\", header = 'True', inferSchema = 'True')\n",
        "income_df.printSchema()"
      ],
      "metadata": {
        "colab": {
          "base_uri": "https://localhost:8080/"
        },
        "id": "MTmCBInzyRru",
        "outputId": "69f5cef8-afcf-4fd3-d9ac-01caa437ff88"
      },
      "execution_count": 211,
      "outputs": [
        {
          "output_type": "stream",
          "name": "stdout",
          "text": [
            "root\n",
            " |-- age: integer (nullable = true)\n",
            " |-- workclass: string (nullable = true)\n",
            " |-- fnlwgt: double (nullable = true)\n",
            " |-- education: string (nullable = true)\n",
            " |-- educational-num: double (nullable = true)\n",
            " |-- marital-status: string (nullable = true)\n",
            " |-- occupation: string (nullable = true)\n",
            " |-- relationship: string (nullable = true)\n",
            " |-- race: string (nullable = true)\n",
            " |-- gender: string (nullable = true)\n",
            " |-- capital-gain: double (nullable = true)\n",
            " |-- capital-loss: double (nullable = true)\n",
            " |-- hours-per-week: double (nullable = true)\n",
            " |-- native-country: string (nullable = true)\n",
            " |-- income: string (nullable = true)\n",
            "\n"
          ]
        }
      ]
    },
    {
      "cell_type": "code",
      "source": [
        "income_df.show(5)"
      ],
      "metadata": {
        "colab": {
          "base_uri": "https://localhost:8080/"
        },
        "id": "NEDpzjwlzGV0",
        "outputId": "e3e0ff50-923c-422f-a3da-e709ba4ee2c1"
      },
      "execution_count": 212,
      "outputs": [
        {
          "output_type": "stream",
          "name": "stdout",
          "text": [
            "+---+----------+--------+-------------+---------------+-------------------+-----------------+--------------+------+------+------------+------------+--------------+--------------+-------+\n",
            "|age| workclass|  fnlwgt|    education|educational-num|     marital-status|       occupation|  relationship|  race|gender|capital-gain|capital-loss|hours-per-week|native-country| income|\n",
            "+---+----------+--------+-------------+---------------+-------------------+-----------------+--------------+------+------+------------+------------+--------------+--------------+-------+\n",
            "| 67|   Private|366425.0|    Doctorate|           16.0|           Divorced|  Exec-managerial| Not-in-family| White|  Male|     99999.0|         0.0|          60.0| United-States| =>50k.|\n",
            "| 17|   Private|244602.0|         12th|            8.0|      Never-married|    Other-service|     Own-child| White|  Male|         0.0|         0.0|          15.0| United-States|  <50k.|\n",
            "| 31|   Private|174201.0|    Bachelors|           13.0| Married-civ-spouse|  Exec-managerial|       Husband| White|  Male|         0.0|         0.0|          40.0| United-States| =>50k.|\n",
            "| 58| State-gov|110199.0|      7th-8th|            4.0| Married-civ-spouse| Transport-moving|       Husband| White|  Male|         0.0|         0.0|          40.0| United-States|  <50k.|\n",
            "| 25| State-gov|149248.0| Some-college|           10.0|      Never-married|    Other-service| Not-in-family| Black|  Male|         0.0|         0.0|          40.0| United-States|  <50k.|\n",
            "+---+----------+--------+-------------+---------------+-------------------+-----------------+--------------+------+------+------------+------------+--------------+--------------+-------+\n",
            "only showing top 5 rows\n",
            "\n"
          ]
        }
      ]
    },
    {
      "cell_type": "code",
      "source": [
        "income_df.describe('age').show()"
      ],
      "metadata": {
        "colab": {
          "base_uri": "https://localhost:8080/"
        },
        "id": "rmrjm5XPzK3t",
        "outputId": "474746a0-64c2-47a7-c7a0-3948c76cad11"
      },
      "execution_count": 213,
      "outputs": [
        {
          "output_type": "stream",
          "name": "stdout",
          "text": [
            "+-------+------------------+\n",
            "|summary|               age|\n",
            "+-------+------------------+\n",
            "|  count|             43957|\n",
            "|   mean| 38.61714857701845|\n",
            "| stddev|13.734400969233446|\n",
            "|    min|                17|\n",
            "|    max|                90|\n",
            "+-------+------------------+\n",
            "\n"
          ]
        }
      ]
    },
    {
      "cell_type": "code",
      "source": [
        "income_df.select('hours-per-week').summary().show()"
      ],
      "metadata": {
        "colab": {
          "base_uri": "https://localhost:8080/"
        },
        "id": "koKboijXzSL2",
        "outputId": "47dffa25-3b26-4064-b0ec-585eaccf7a68"
      },
      "execution_count": 214,
      "outputs": [
        {
          "output_type": "stream",
          "name": "stdout",
          "text": [
            "+-------+-----------------+\n",
            "|summary|   hours-per-week|\n",
            "+-------+-----------------+\n",
            "|  count|            43957|\n",
            "|   mean|40.40769388265805|\n",
            "| stddev|12.40030286325265|\n",
            "|    min|              1.0|\n",
            "|    25%|             40.0|\n",
            "|    50%|             40.0|\n",
            "|    75%|             45.0|\n",
            "|    max|             99.0|\n",
            "+-------+-----------------+\n",
            "\n"
          ]
        }
      ]
    },
    {
      "cell_type": "code",
      "source": [
        "income_df.select('marital-status').summary().show( )"
      ],
      "metadata": {
        "colab": {
          "base_uri": "https://localhost:8080/"
        },
        "id": "8KlZdgU6zoB1",
        "outputId": "a98b2ace-3b75-4d09-b53e-37dbd67ce15d"
      },
      "execution_count": 215,
      "outputs": [
        {
          "output_type": "stream",
          "name": "stdout",
          "text": [
            "+-------+--------------+\n",
            "|summary|marital-status|\n",
            "+-------+--------------+\n",
            "|  count|         43957|\n",
            "|   mean|          null|\n",
            "| stddev|          null|\n",
            "|    min|      Divorced|\n",
            "|    25%|          null|\n",
            "|    50%|          null|\n",
            "|    75%|          null|\n",
            "|    max|       Widowed|\n",
            "+-------+--------------+\n",
            "\n"
          ]
        }
      ]
    },
    {
      "cell_type": "code",
      "source": [
        "income_df.groupBy('gender').count().sort(\"count\", ascending = False).show()"
      ],
      "metadata": {
        "colab": {
          "base_uri": "https://localhost:8080/"
        },
        "id": "4D2ML-9j4AAe",
        "outputId": "420efd1c-a5a3-4cb9-bdb6-c508bc98a115"
      },
      "execution_count": 216,
      "outputs": [
        {
          "output_type": "stream",
          "name": "stdout",
          "text": [
            "+-------+-----+\n",
            "| gender|count|\n",
            "+-------+-----+\n",
            "|   Male|29400|\n",
            "| Female|14557|\n",
            "+-------+-----+\n",
            "\n"
          ]
        }
      ]
    },
    {
      "cell_type": "code",
      "source": [
        "from pyspark.ml.feature import StringIndexer, OneHotEncoder"
      ],
      "metadata": {
        "id": "jCR1ul_F4njb"
      },
      "execution_count": 217,
      "outputs": []
    },
    {
      "cell_type": "code",
      "source": [
        "categoricalCols = [ 'workclass' , 'education','marital-status', 'occupation', 'relationship', 'race', 'gender']\n",
        "\n",
        "\n",
        "categoricalCols"
      ],
      "metadata": {
        "colab": {
          "base_uri": "https://localhost:8080/"
        },
        "id": "BMSQi1nf4v5j",
        "outputId": "39ec6e5a-95b6-4436-e43d-0e1155ab843b"
      },
      "execution_count": 218,
      "outputs": [
        {
          "output_type": "execute_result",
          "data": {
            "text/plain": [
              "['workclass',\n",
              " 'education',\n",
              " 'marital-status',\n",
              " 'occupation',\n",
              " 'relationship',\n",
              " 'race',\n",
              " 'gender']"
            ]
          },
          "metadata": {},
          "execution_count": 218
        }
      ]
    },
    {
      "cell_type": "code",
      "source": [
        "#cria os estimadores (que vão implementar o fit()) retornam funções que vão ser aplicadas para transformar o dataset\n",
        "\n",
        "stringIndexer = StringIndexer(inputCols = categoricalCols, outputCols = [x  + \"Index\" for x in categoricalCols])\n",
        "oneHotEncoder = OneHotEncoder(inputCols = stringIndexer.getOutputCols(), outputCols = [x + 'OHE' for x in categoricalCols])\n",
        "\n",
        "# A categoria que queremos prever tem dois valores str que são \"<=50k\", e \">50k\"\n",
        "# vamos usar o estimador 'StringIndexer\" para convertê-lo em um valor numérico.\n",
        "labelToIndex = StringIndexer(inputCol = 'income', outputCol = 'income_label')"
      ],
      "metadata": {
        "id": "-0OhPj9A5t6A"
      },
      "execution_count": 219,
      "outputs": []
    },
    {
      "cell_type": "code",
      "source": [
        "from pyspark.ml.feature import VectorAssembler\n",
        "\n",
        "numericCols = ['age', 'fnlwgt', 'educational-num', 'capital-gain', 'capital-loss', 'hours-per-week']\n",
        "\n",
        "allCols = [c + 'OHE' for c in categoricalCols] + numericCols\n",
        "\n",
        "\n",
        "# VectoAssmbler é um tranformer (função)\n",
        "# Transforma um dataframe com colunas em um vetor com colunas\n",
        "\n",
        "vecAssembler = VectorAssembler(inputCols = allCols, outputCol = \"features\")"
      ],
      "metadata": {
        "id": "7h3cts6P7Pwn"
      },
      "execution_count": 220,
      "outputs": []
    },
    {
      "cell_type": "code",
      "source": [
        "from pyspark.ml.classification import DecisionTreeClassifier\n",
        "dtc = DecisionTreeClassifier(labelCol= 'income_label', featuresCol= \"features\")"
      ],
      "metadata": {
        "id": "CvIgIK4g8kBc"
      },
      "execution_count": 221,
      "outputs": []
    },
    {
      "cell_type": "code",
      "source": [
        "from pyspark.ml.pipeline import PipelineModel\n",
        "from pyspark.ml import Pipeline\n",
        "\n",
        "#um pipeline é uma sequência de estágios.\n",
        "#vai estimar o resultado\n",
        "\n",
        "\n",
        "pipeline = Pipeline(stages = [stringIndexer, oneHotEncoder, labelToIndex, vecAssembler, dtc])\n",
        "\n",
        "#separa os dados em dados de teste e dados de treinamento\n",
        "train_data, test_data = income_df.randomSplit([0.7,0.3])\n",
        "\n",
        "#Pipeline é um estimador que vai receber os dados de treinamento\n",
        "pipelineModel = pipeline.fit(train_data)\n",
        "\n",
        "#Aplica o modelo do pipeline aos dados do teste\n",
        "predictionsDF = pipelineModel.transform(test_data)\n"
      ],
      "metadata": {
        "id": "-YVPzooV7BtF"
      },
      "execution_count": 222,
      "outputs": []
    },
    {
      "cell_type": "code",
      "source": [
        "from pyspark.ml.evaluation import MulticlassClassificationEvaluator\n",
        "\n",
        "#acuracia: % de previsões e corretas\n",
        "evaluator = MulticlassClassificationEvaluator(metricName = 'accuracy', labelCol = 'income_label')\n",
        "print(f\"Acurácia: {evaluator.evaluate(predictionsDF)}\")"
      ],
      "metadata": {
        "colab": {
          "base_uri": "https://localhost:8080/"
        },
        "id": "YrNf2f3XAX9w",
        "outputId": "26632da2-f9e0-4ec9-c072-992c21ef2852"
      },
      "execution_count": 223,
      "outputs": [
        {
          "output_type": "stream",
          "name": "stdout",
          "text": [
            "Acurácia: 0.8452514383919898\n"
          ]
        }
      ]
    },
    {
      "cell_type": "markdown",
      "source": [
        "Quero repetir o teste 100 vezes para analisar os resultados"
      ],
      "metadata": {
        "id": "kaJRDbgePGOH"
      }
    },
    {
      "cell_type": "code",
      "source": [
        "resultados = []\n",
        "for i in range(100):\n",
        "  pipeline = Pipeline(stages = [stringIndexer, oneHotEncoder, labelToIndex, vecAssembler, dtc])\n",
        "  train_data, test_data = income_df.randomSplit([0.7,0.3])\n",
        "  pipelineModel = pipeline.fit(train_data)\n",
        "  predictionsDF = pipelineModel.transform(test_data)\n",
        "  resultados.append(evaluator.evaluate(predictionsDF))\n",
        "\n"
      ],
      "metadata": {
        "id": "deRYTwPVPOUT"
      },
      "execution_count": 224,
      "outputs": []
    },
    {
      "cell_type": "code",
      "source": [
        "import pandas as pd\n",
        "import numpy as np\n",
        "\n",
        "df = pd.DataFrame(np.array(resultados))\n",
        "a, b = df.mean(), df.std()\n",
        "print(f\"a média de 100 testes foi {a[0]:.2f}, e o desvio padrão  foi {b[0]:.5f}\")"
      ],
      "metadata": {
        "colab": {
          "base_uri": "https://localhost:8080/"
        },
        "id": "VNfJ8IJcSjFc",
        "outputId": "54ab03af-3c28-440e-e25f-0f6035680a72"
      },
      "execution_count": 225,
      "outputs": [
        {
          "output_type": "stream",
          "name": "stdout",
          "text": [
            "a média de 100 testes foi 0.84, e o desvio padrão  foi 0.00403\n"
          ]
        }
      ]
    }
  ]
}